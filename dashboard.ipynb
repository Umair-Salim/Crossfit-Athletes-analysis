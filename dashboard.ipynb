{
 "cells": [
  {
   "cell_type": "code",
   "execution_count": 1,
   "metadata": {},
   "outputs": [],
   "source": [
    "import pandas as pd\n",
    "import numpy as np\n",
    "import matplotlib.pyplot as plt\n",
    "import seaborn as sns\n",
    "import plotly.express as px"
   ]
  },
  {
   "cell_type": "code",
   "execution_count": 2,
   "metadata": {},
   "outputs": [
    {
     "data": {
      "text/html": [
       "<div>\n",
       "<style scoped>\n",
       "    .dataframe tbody tr th:only-of-type {\n",
       "        vertical-align: middle;\n",
       "    }\n",
       "\n",
       "    .dataframe tbody tr th {\n",
       "        vertical-align: top;\n",
       "    }\n",
       "\n",
       "    .dataframe thead th {\n",
       "        text-align: right;\n",
       "    }\n",
       "</style>\n",
       "<table border=\"1\" class=\"dataframe\">\n",
       "  <thead>\n",
       "    <tr style=\"text-align: right;\">\n",
       "      <th></th>\n",
       "      <th>region</th>\n",
       "      <th>gender</th>\n",
       "      <th>age</th>\n",
       "      <th>height</th>\n",
       "      <th>weight</th>\n",
       "      <th>fran</th>\n",
       "      <th>helen</th>\n",
       "      <th>grace</th>\n",
       "      <th>filthy50</th>\n",
       "      <th>fgonebad</th>\n",
       "      <th>...</th>\n",
       "      <th>snatch</th>\n",
       "      <th>deadlift</th>\n",
       "      <th>backsq</th>\n",
       "      <th>pullups</th>\n",
       "      <th>eat</th>\n",
       "      <th>train</th>\n",
       "      <th>background</th>\n",
       "      <th>experience</th>\n",
       "      <th>schedule</th>\n",
       "      <th>howlong</th>\n",
       "    </tr>\n",
       "  </thead>\n",
       "  <tbody>\n",
       "    <tr>\n",
       "      <th>0</th>\n",
       "      <td>South West</td>\n",
       "      <td>Male</td>\n",
       "      <td>31</td>\n",
       "      <td>67</td>\n",
       "      <td>150</td>\n",
       "      <td>244</td>\n",
       "      <td>486</td>\n",
       "      <td>294</td>\n",
       "      <td>1217</td>\n",
       "      <td>330</td>\n",
       "      <td>...</td>\n",
       "      <td>175</td>\n",
       "      <td>410</td>\n",
       "      <td>330</td>\n",
       "      <td>42</td>\n",
       "      <td>normal diet</td>\n",
       "      <td>CF center and CFWO</td>\n",
       "      <td>Educational institute sports</td>\n",
       "      <td>Trainer</td>\n",
       "      <td>3+ a week</td>\n",
       "      <td>2-4 years</td>\n",
       "    </tr>\n",
       "    <tr>\n",
       "      <th>1</th>\n",
       "      <td>Mid Atlantic</td>\n",
       "      <td>Male</td>\n",
       "      <td>37</td>\n",
       "      <td>72</td>\n",
       "      <td>210</td>\n",
       "      <td>162</td>\n",
       "      <td>482</td>\n",
       "      <td>143</td>\n",
       "      <td>1243</td>\n",
       "      <td>366</td>\n",
       "      <td>...</td>\n",
       "      <td>205</td>\n",
       "      <td>525</td>\n",
       "      <td>425</td>\n",
       "      <td>49</td>\n",
       "      <td>normal diet</td>\n",
       "      <td>CF center and CFWO</td>\n",
       "      <td>Regular rec sports</td>\n",
       "      <td>Trainer</td>\n",
       "      <td>2x a week</td>\n",
       "      <td>4+ years</td>\n",
       "    </tr>\n",
       "    <tr>\n",
       "      <th>2</th>\n",
       "      <td>Latin America</td>\n",
       "      <td>Male</td>\n",
       "      <td>25</td>\n",
       "      <td>71</td>\n",
       "      <td>180</td>\n",
       "      <td>193</td>\n",
       "      <td>498</td>\n",
       "      <td>146</td>\n",
       "      <td>1584</td>\n",
       "      <td>263</td>\n",
       "      <td>...</td>\n",
       "      <td>225</td>\n",
       "      <td>405</td>\n",
       "      <td>320</td>\n",
       "      <td>30</td>\n",
       "      <td>no diet</td>\n",
       "      <td>CF center and CFWO</td>\n",
       "      <td>Only CF</td>\n",
       "      <td>Trainer</td>\n",
       "      <td>Other</td>\n",
       "      <td>2-4 years</td>\n",
       "    </tr>\n",
       "    <tr>\n",
       "      <th>3</th>\n",
       "      <td>Europe</td>\n",
       "      <td>Male</td>\n",
       "      <td>27</td>\n",
       "      <td>69</td>\n",
       "      <td>192</td>\n",
       "      <td>147</td>\n",
       "      <td>480</td>\n",
       "      <td>100</td>\n",
       "      <td>1070</td>\n",
       "      <td>0</td>\n",
       "      <td>...</td>\n",
       "      <td>220</td>\n",
       "      <td>441</td>\n",
       "      <td>397</td>\n",
       "      <td>30</td>\n",
       "      <td>no diet</td>\n",
       "      <td>CF center</td>\n",
       "      <td>Educational institute sports</td>\n",
       "      <td>Trainer</td>\n",
       "      <td>3+ a week</td>\n",
       "      <td>2-4 years</td>\n",
       "    </tr>\n",
       "    <tr>\n",
       "      <th>4</th>\n",
       "      <td>Mid Atlantic</td>\n",
       "      <td>Male</td>\n",
       "      <td>44</td>\n",
       "      <td>73</td>\n",
       "      <td>184</td>\n",
       "      <td>317</td>\n",
       "      <td>586</td>\n",
       "      <td>217</td>\n",
       "      <td>1551</td>\n",
       "      <td>311</td>\n",
       "      <td>...</td>\n",
       "      <td>155</td>\n",
       "      <td>405</td>\n",
       "      <td>255</td>\n",
       "      <td>31</td>\n",
       "      <td>normal diet</td>\n",
       "      <td>CF center and Non CFWO</td>\n",
       "      <td>Educational institute sports</td>\n",
       "      <td>Other</td>\n",
       "      <td>3+ a week</td>\n",
       "      <td>4+ years</td>\n",
       "    </tr>\n",
       "  </tbody>\n",
       "</table>\n",
       "<p>5 rows × 23 columns</p>\n",
       "</div>"
      ],
      "text/plain": [
       "          region gender  age  height  weight  fran  helen  grace  filthy50  \\\n",
       "0     South West   Male   31      67     150   244    486    294      1217   \n",
       "1   Mid Atlantic   Male   37      72     210   162    482    143      1243   \n",
       "2  Latin America   Male   25      71     180   193    498    146      1584   \n",
       "3         Europe   Male   27      69     192   147    480    100      1070   \n",
       "4   Mid Atlantic   Male   44      73     184   317    586    217      1551   \n",
       "\n",
       "   fgonebad  ...  snatch  deadlift  backsq  pullups          eat  \\\n",
       "0       330  ...     175       410     330       42  normal diet   \n",
       "1       366  ...     205       525     425       49  normal diet   \n",
       "2       263  ...     225       405     320       30      no diet   \n",
       "3         0  ...     220       441     397       30      no diet   \n",
       "4       311  ...     155       405     255       31  normal diet   \n",
       "\n",
       "                    train                    background experience   schedule  \\\n",
       "0      CF center and CFWO  Educational institute sports    Trainer  3+ a week   \n",
       "1      CF center and CFWO            Regular rec sports    Trainer  2x a week   \n",
       "2      CF center and CFWO                       Only CF    Trainer      Other   \n",
       "3               CF center  Educational institute sports    Trainer  3+ a week   \n",
       "4  CF center and Non CFWO  Educational institute sports      Other  3+ a week   \n",
       "\n",
       "     howlong  \n",
       "0  2-4 years  \n",
       "1   4+ years  \n",
       "2  2-4 years  \n",
       "3  2-4 years  \n",
       "4   4+ years  \n",
       "\n",
       "[5 rows x 23 columns]"
      ]
     },
     "execution_count": 2,
     "metadata": {},
     "output_type": "execute_result"
    }
   ],
   "source": [
    "df = pd.read_csv('eda_athletes.csv')\n",
    "df.head()"
   ]
  },
  {
   "cell_type": "code",
   "execution_count": 6,
   "metadata": {},
   "outputs": [
    {
     "name": "stderr",
     "output_type": "stream",
     "text": [
      "C:\\Users\\umair\\AppData\\Local\\Temp\\ipykernel_12340\\2665178421.py:1: FutureWarning:\n",
      "\n",
      "Indexing with multiple keys (implicitly converted to a tuple of keys) will be deprecated, use a list instead.\n",
      "\n"
     ]
    },
    {
     "data": {
      "text/html": [
       "<div>\n",
       "<style scoped>\n",
       "    .dataframe tbody tr th:only-of-type {\n",
       "        vertical-align: middle;\n",
       "    }\n",
       "\n",
       "    .dataframe tbody tr th {\n",
       "        vertical-align: top;\n",
       "    }\n",
       "\n",
       "    .dataframe thead th {\n",
       "        text-align: right;\n",
       "    }\n",
       "</style>\n",
       "<table border=\"1\" class=\"dataframe\">\n",
       "  <thead>\n",
       "    <tr style=\"text-align: right;\">\n",
       "      <th>background</th>\n",
       "      <th>Decline to answer</th>\n",
       "      <th>Educational institute sports</th>\n",
       "      <th>Only CF</th>\n",
       "      <th>Professional sports</th>\n",
       "      <th>Regular rec sports</th>\n",
       "    </tr>\n",
       "  </thead>\n",
       "  <tbody>\n",
       "    <tr>\n",
       "      <th>fran</th>\n",
       "      <td>208.750000</td>\n",
       "      <td>228.917018</td>\n",
       "      <td>252.847826</td>\n",
       "      <td>190.306452</td>\n",
       "      <td>227.244737</td>\n",
       "    </tr>\n",
       "    <tr>\n",
       "      <th>helen</th>\n",
       "      <td>485.916667</td>\n",
       "      <td>534.509142</td>\n",
       "      <td>561.260870</td>\n",
       "      <td>499.838710</td>\n",
       "      <td>535.865789</td>\n",
       "    </tr>\n",
       "    <tr>\n",
       "      <th>grace</th>\n",
       "      <td>155.583333</td>\n",
       "      <td>165.829817</td>\n",
       "      <td>186.641304</td>\n",
       "      <td>152.822581</td>\n",
       "      <td>168.989474</td>\n",
       "    </tr>\n",
       "    <tr>\n",
       "      <th>filthy50</th>\n",
       "      <td>1327.083333</td>\n",
       "      <td>1375.116737</td>\n",
       "      <td>1454.032609</td>\n",
       "      <td>1270.016129</td>\n",
       "      <td>1385.031579</td>\n",
       "    </tr>\n",
       "    <tr>\n",
       "      <th>run400</th>\n",
       "      <td>65.916667</td>\n",
       "      <td>67.904360</td>\n",
       "      <td>73.391304</td>\n",
       "      <td>64.983871</td>\n",
       "      <td>66.557895</td>\n",
       "    </tr>\n",
       "    <tr>\n",
       "      <th>run5k</th>\n",
       "      <td>1209.666667</td>\n",
       "      <td>1311.776371</td>\n",
       "      <td>1359.032609</td>\n",
       "      <td>1271.725806</td>\n",
       "      <td>1311.178947</td>\n",
       "    </tr>\n",
       "  </tbody>\n",
       "</table>\n",
       "</div>"
      ],
      "text/plain": [
       "background  Decline to answer  Educational institute sports      Only CF  \\\n",
       "fran               208.750000                    228.917018   252.847826   \n",
       "helen              485.916667                    534.509142   561.260870   \n",
       "grace              155.583333                    165.829817   186.641304   \n",
       "filthy50          1327.083333                   1375.116737  1454.032609   \n",
       "run400              65.916667                     67.904360    73.391304   \n",
       "run5k             1209.666667                   1311.776371  1359.032609   \n",
       "\n",
       "background  Professional sports  Regular rec sports  \n",
       "fran                 190.306452          227.244737  \n",
       "helen                499.838710          535.865789  \n",
       "grace                152.822581          168.989474  \n",
       "filthy50            1270.016129         1385.031579  \n",
       "run400                64.983871           66.557895  \n",
       "run5k               1271.725806         1311.178947  "
      ]
     },
     "execution_count": 6,
     "metadata": {},
     "output_type": "execute_result"
    }
   ],
   "source": [
    "bro = df.groupby('background')['fran','helen','grace','filthy50','run400','run5k'].mean().T\n",
    "bro"
   ]
  },
  {
   "cell_type": "code",
   "execution_count": null,
   "metadata": {},
   "outputs": [],
   "source": [
    "bro.T.plot(kind='bar', figsize=(15,5))\n",
    "plt.title('Cardio by Background')\n",
    "plt.legend(bbox_to_anchor=(1.05, 1), loc=2, borderaxespad=0.)"
   ]
  },
  {
   "cell_type": "code",
   "execution_count": 5,
   "metadata": {},
   "outputs": [
    {
     "data": {
      "application/vnd.plotly.v1+json": {
       "config": {
        "plotlyServerURL": "https://plot.ly"
       },
       "data": [
        {
         "alignmentgroup": "True",
         "hovertemplate": "background=Decline to answer<br>index=%{x}<br>Time in Seconds=%{y}<extra></extra>",
         "legendgroup": "Decline to answer",
         "marker": {
          "color": "#636efa",
          "pattern": {
           "shape": ""
          }
         },
         "name": "Decline to answer",
         "offsetgroup": "Decline to answer",
         "orientation": "v",
         "showlegend": true,
         "textposition": "auto",
         "type": "bar",
         "x": [
          "fran",
          "helen",
          "grace",
          "filthy50",
          "run400",
          "run5k"
         ],
         "xaxis": "x",
         "y": [
          208.75,
          485.9166666666667,
          155.58333333333334,
          1327.0833333333333,
          65.91666666666667,
          1209.6666666666667
         ],
         "yaxis": "y"
        },
        {
         "alignmentgroup": "True",
         "hovertemplate": "background=Educational institute sports<br>index=%{x}<br>Time in Seconds=%{y}<extra></extra>",
         "legendgroup": "Educational institute sports",
         "marker": {
          "color": "#EF553B",
          "pattern": {
           "shape": ""
          }
         },
         "name": "Educational institute sports",
         "offsetgroup": "Educational institute sports",
         "orientation": "v",
         "showlegend": true,
         "textposition": "auto",
         "type": "bar",
         "x": [
          "fran",
          "helen",
          "grace",
          "filthy50",
          "run400",
          "run5k"
         ],
         "xaxis": "x",
         "y": [
          228.9170182841069,
          534.5091420534459,
          165.8298171589311,
          1375.1167369901548,
          67.9043600562588,
          1311.776371308017
         ],
         "yaxis": "y"
        },
        {
         "alignmentgroup": "True",
         "hovertemplate": "background=Only CF<br>index=%{x}<br>Time in Seconds=%{y}<extra></extra>",
         "legendgroup": "Only CF",
         "marker": {
          "color": "#00cc96",
          "pattern": {
           "shape": ""
          }
         },
         "name": "Only CF",
         "offsetgroup": "Only CF",
         "orientation": "v",
         "showlegend": true,
         "textposition": "auto",
         "type": "bar",
         "x": [
          "fran",
          "helen",
          "grace",
          "filthy50",
          "run400",
          "run5k"
         ],
         "xaxis": "x",
         "y": [
          252.84782608695653,
          561.2608695652174,
          186.6413043478261,
          1454.0326086956522,
          73.3913043478261,
          1359.0326086956522
         ],
         "yaxis": "y"
        },
        {
         "alignmentgroup": "True",
         "hovertemplate": "background=Professional sports<br>index=%{x}<br>Time in Seconds=%{y}<extra></extra>",
         "legendgroup": "Professional sports",
         "marker": {
          "color": "#ab63fa",
          "pattern": {
           "shape": ""
          }
         },
         "name": "Professional sports",
         "offsetgroup": "Professional sports",
         "orientation": "v",
         "showlegend": true,
         "textposition": "auto",
         "type": "bar",
         "x": [
          "fran",
          "helen",
          "grace",
          "filthy50",
          "run400",
          "run5k"
         ],
         "xaxis": "x",
         "y": [
          190.30645161290323,
          499.83870967741933,
          152.82258064516128,
          1270.016129032258,
          64.98387096774194,
          1271.725806451613
         ],
         "yaxis": "y"
        },
        {
         "alignmentgroup": "True",
         "hovertemplate": "background=Regular rec sports<br>index=%{x}<br>Time in Seconds=%{y}<extra></extra>",
         "legendgroup": "Regular rec sports",
         "marker": {
          "color": "#FFA15A",
          "pattern": {
           "shape": ""
          }
         },
         "name": "Regular rec sports",
         "offsetgroup": "Regular rec sports",
         "orientation": "v",
         "showlegend": true,
         "textposition": "auto",
         "type": "bar",
         "x": [
          "fran",
          "helen",
          "grace",
          "filthy50",
          "run400",
          "run5k"
         ],
         "xaxis": "x",
         "y": [
          227.24473684210525,
          535.8657894736842,
          168.98947368421054,
          1385.0315789473684,
          66.5578947368421,
          1311.178947368421
         ],
         "yaxis": "y"
        }
       ],
       "layout": {
        "barmode": "group",
        "legend": {
         "title": {
          "text": "background"
         },
         "tracegroupgap": 0
        },
        "margin": {
         "t": 60
        },
        "template": {
         "data": {
          "bar": [
           {
            "error_x": {
             "color": "#f2f5fa"
            },
            "error_y": {
             "color": "#f2f5fa"
            },
            "marker": {
             "line": {
              "color": "rgb(17,17,17)",
              "width": 0.5
             },
             "pattern": {
              "fillmode": "overlay",
              "size": 10,
              "solidity": 0.2
             }
            },
            "type": "bar"
           }
          ],
          "barpolar": [
           {
            "marker": {
             "line": {
              "color": "rgb(17,17,17)",
              "width": 0.5
             },
             "pattern": {
              "fillmode": "overlay",
              "size": 10,
              "solidity": 0.2
             }
            },
            "type": "barpolar"
           }
          ],
          "carpet": [
           {
            "aaxis": {
             "endlinecolor": "#A2B1C6",
             "gridcolor": "#506784",
             "linecolor": "#506784",
             "minorgridcolor": "#506784",
             "startlinecolor": "#A2B1C6"
            },
            "baxis": {
             "endlinecolor": "#A2B1C6",
             "gridcolor": "#506784",
             "linecolor": "#506784",
             "minorgridcolor": "#506784",
             "startlinecolor": "#A2B1C6"
            },
            "type": "carpet"
           }
          ],
          "choropleth": [
           {
            "colorbar": {
             "outlinewidth": 0,
             "ticks": ""
            },
            "type": "choropleth"
           }
          ],
          "contour": [
           {
            "colorbar": {
             "outlinewidth": 0,
             "ticks": ""
            },
            "colorscale": [
             [
              0,
              "#0d0887"
             ],
             [
              0.1111111111111111,
              "#46039f"
             ],
             [
              0.2222222222222222,
              "#7201a8"
             ],
             [
              0.3333333333333333,
              "#9c179e"
             ],
             [
              0.4444444444444444,
              "#bd3786"
             ],
             [
              0.5555555555555556,
              "#d8576b"
             ],
             [
              0.6666666666666666,
              "#ed7953"
             ],
             [
              0.7777777777777778,
              "#fb9f3a"
             ],
             [
              0.8888888888888888,
              "#fdca26"
             ],
             [
              1,
              "#f0f921"
             ]
            ],
            "type": "contour"
           }
          ],
          "contourcarpet": [
           {
            "colorbar": {
             "outlinewidth": 0,
             "ticks": ""
            },
            "type": "contourcarpet"
           }
          ],
          "heatmap": [
           {
            "colorbar": {
             "outlinewidth": 0,
             "ticks": ""
            },
            "colorscale": [
             [
              0,
              "#0d0887"
             ],
             [
              0.1111111111111111,
              "#46039f"
             ],
             [
              0.2222222222222222,
              "#7201a8"
             ],
             [
              0.3333333333333333,
              "#9c179e"
             ],
             [
              0.4444444444444444,
              "#bd3786"
             ],
             [
              0.5555555555555556,
              "#d8576b"
             ],
             [
              0.6666666666666666,
              "#ed7953"
             ],
             [
              0.7777777777777778,
              "#fb9f3a"
             ],
             [
              0.8888888888888888,
              "#fdca26"
             ],
             [
              1,
              "#f0f921"
             ]
            ],
            "type": "heatmap"
           }
          ],
          "heatmapgl": [
           {
            "colorbar": {
             "outlinewidth": 0,
             "ticks": ""
            },
            "colorscale": [
             [
              0,
              "#0d0887"
             ],
             [
              0.1111111111111111,
              "#46039f"
             ],
             [
              0.2222222222222222,
              "#7201a8"
             ],
             [
              0.3333333333333333,
              "#9c179e"
             ],
             [
              0.4444444444444444,
              "#bd3786"
             ],
             [
              0.5555555555555556,
              "#d8576b"
             ],
             [
              0.6666666666666666,
              "#ed7953"
             ],
             [
              0.7777777777777778,
              "#fb9f3a"
             ],
             [
              0.8888888888888888,
              "#fdca26"
             ],
             [
              1,
              "#f0f921"
             ]
            ],
            "type": "heatmapgl"
           }
          ],
          "histogram": [
           {
            "marker": {
             "pattern": {
              "fillmode": "overlay",
              "size": 10,
              "solidity": 0.2
             }
            },
            "type": "histogram"
           }
          ],
          "histogram2d": [
           {
            "colorbar": {
             "outlinewidth": 0,
             "ticks": ""
            },
            "colorscale": [
             [
              0,
              "#0d0887"
             ],
             [
              0.1111111111111111,
              "#46039f"
             ],
             [
              0.2222222222222222,
              "#7201a8"
             ],
             [
              0.3333333333333333,
              "#9c179e"
             ],
             [
              0.4444444444444444,
              "#bd3786"
             ],
             [
              0.5555555555555556,
              "#d8576b"
             ],
             [
              0.6666666666666666,
              "#ed7953"
             ],
             [
              0.7777777777777778,
              "#fb9f3a"
             ],
             [
              0.8888888888888888,
              "#fdca26"
             ],
             [
              1,
              "#f0f921"
             ]
            ],
            "type": "histogram2d"
           }
          ],
          "histogram2dcontour": [
           {
            "colorbar": {
             "outlinewidth": 0,
             "ticks": ""
            },
            "colorscale": [
             [
              0,
              "#0d0887"
             ],
             [
              0.1111111111111111,
              "#46039f"
             ],
             [
              0.2222222222222222,
              "#7201a8"
             ],
             [
              0.3333333333333333,
              "#9c179e"
             ],
             [
              0.4444444444444444,
              "#bd3786"
             ],
             [
              0.5555555555555556,
              "#d8576b"
             ],
             [
              0.6666666666666666,
              "#ed7953"
             ],
             [
              0.7777777777777778,
              "#fb9f3a"
             ],
             [
              0.8888888888888888,
              "#fdca26"
             ],
             [
              1,
              "#f0f921"
             ]
            ],
            "type": "histogram2dcontour"
           }
          ],
          "mesh3d": [
           {
            "colorbar": {
             "outlinewidth": 0,
             "ticks": ""
            },
            "type": "mesh3d"
           }
          ],
          "parcoords": [
           {
            "line": {
             "colorbar": {
              "outlinewidth": 0,
              "ticks": ""
             }
            },
            "type": "parcoords"
           }
          ],
          "pie": [
           {
            "automargin": true,
            "type": "pie"
           }
          ],
          "scatter": [
           {
            "marker": {
             "line": {
              "color": "#283442"
             }
            },
            "type": "scatter"
           }
          ],
          "scatter3d": [
           {
            "line": {
             "colorbar": {
              "outlinewidth": 0,
              "ticks": ""
             }
            },
            "marker": {
             "colorbar": {
              "outlinewidth": 0,
              "ticks": ""
             }
            },
            "type": "scatter3d"
           }
          ],
          "scattercarpet": [
           {
            "marker": {
             "colorbar": {
              "outlinewidth": 0,
              "ticks": ""
             }
            },
            "type": "scattercarpet"
           }
          ],
          "scattergeo": [
           {
            "marker": {
             "colorbar": {
              "outlinewidth": 0,
              "ticks": ""
             }
            },
            "type": "scattergeo"
           }
          ],
          "scattergl": [
           {
            "marker": {
             "line": {
              "color": "#283442"
             }
            },
            "type": "scattergl"
           }
          ],
          "scattermapbox": [
           {
            "marker": {
             "colorbar": {
              "outlinewidth": 0,
              "ticks": ""
             }
            },
            "type": "scattermapbox"
           }
          ],
          "scatterpolar": [
           {
            "marker": {
             "colorbar": {
              "outlinewidth": 0,
              "ticks": ""
             }
            },
            "type": "scatterpolar"
           }
          ],
          "scatterpolargl": [
           {
            "marker": {
             "colorbar": {
              "outlinewidth": 0,
              "ticks": ""
             }
            },
            "type": "scatterpolargl"
           }
          ],
          "scatterternary": [
           {
            "marker": {
             "colorbar": {
              "outlinewidth": 0,
              "ticks": ""
             }
            },
            "type": "scatterternary"
           }
          ],
          "surface": [
           {
            "colorbar": {
             "outlinewidth": 0,
             "ticks": ""
            },
            "colorscale": [
             [
              0,
              "#0d0887"
             ],
             [
              0.1111111111111111,
              "#46039f"
             ],
             [
              0.2222222222222222,
              "#7201a8"
             ],
             [
              0.3333333333333333,
              "#9c179e"
             ],
             [
              0.4444444444444444,
              "#bd3786"
             ],
             [
              0.5555555555555556,
              "#d8576b"
             ],
             [
              0.6666666666666666,
              "#ed7953"
             ],
             [
              0.7777777777777778,
              "#fb9f3a"
             ],
             [
              0.8888888888888888,
              "#fdca26"
             ],
             [
              1,
              "#f0f921"
             ]
            ],
            "type": "surface"
           }
          ],
          "table": [
           {
            "cells": {
             "fill": {
              "color": "#506784"
             },
             "line": {
              "color": "rgb(17,17,17)"
             }
            },
            "header": {
             "fill": {
              "color": "#2a3f5f"
             },
             "line": {
              "color": "rgb(17,17,17)"
             }
            },
            "type": "table"
           }
          ]
         },
         "layout": {
          "annotationdefaults": {
           "arrowcolor": "#f2f5fa",
           "arrowhead": 0,
           "arrowwidth": 1
          },
          "autotypenumbers": "strict",
          "coloraxis": {
           "colorbar": {
            "outlinewidth": 0,
            "ticks": ""
           }
          },
          "colorscale": {
           "diverging": [
            [
             0,
             "#8e0152"
            ],
            [
             0.1,
             "#c51b7d"
            ],
            [
             0.2,
             "#de77ae"
            ],
            [
             0.3,
             "#f1b6da"
            ],
            [
             0.4,
             "#fde0ef"
            ],
            [
             0.5,
             "#f7f7f7"
            ],
            [
             0.6,
             "#e6f5d0"
            ],
            [
             0.7,
             "#b8e186"
            ],
            [
             0.8,
             "#7fbc41"
            ],
            [
             0.9,
             "#4d9221"
            ],
            [
             1,
             "#276419"
            ]
           ],
           "sequential": [
            [
             0,
             "#0d0887"
            ],
            [
             0.1111111111111111,
             "#46039f"
            ],
            [
             0.2222222222222222,
             "#7201a8"
            ],
            [
             0.3333333333333333,
             "#9c179e"
            ],
            [
             0.4444444444444444,
             "#bd3786"
            ],
            [
             0.5555555555555556,
             "#d8576b"
            ],
            [
             0.6666666666666666,
             "#ed7953"
            ],
            [
             0.7777777777777778,
             "#fb9f3a"
            ],
            [
             0.8888888888888888,
             "#fdca26"
            ],
            [
             1,
             "#f0f921"
            ]
           ],
           "sequentialminus": [
            [
             0,
             "#0d0887"
            ],
            [
             0.1111111111111111,
             "#46039f"
            ],
            [
             0.2222222222222222,
             "#7201a8"
            ],
            [
             0.3333333333333333,
             "#9c179e"
            ],
            [
             0.4444444444444444,
             "#bd3786"
            ],
            [
             0.5555555555555556,
             "#d8576b"
            ],
            [
             0.6666666666666666,
             "#ed7953"
            ],
            [
             0.7777777777777778,
             "#fb9f3a"
            ],
            [
             0.8888888888888888,
             "#fdca26"
            ],
            [
             1,
             "#f0f921"
            ]
           ]
          },
          "colorway": [
           "#636efa",
           "#EF553B",
           "#00cc96",
           "#ab63fa",
           "#FFA15A",
           "#19d3f3",
           "#FF6692",
           "#B6E880",
           "#FF97FF",
           "#FECB52"
          ],
          "font": {
           "color": "#f2f5fa"
          },
          "geo": {
           "bgcolor": "rgb(17,17,17)",
           "lakecolor": "rgb(17,17,17)",
           "landcolor": "rgb(17,17,17)",
           "showlakes": true,
           "showland": true,
           "subunitcolor": "#506784"
          },
          "hoverlabel": {
           "align": "left"
          },
          "hovermode": "closest",
          "mapbox": {
           "style": "dark"
          },
          "paper_bgcolor": "rgb(17,17,17)",
          "plot_bgcolor": "rgb(17,17,17)",
          "polar": {
           "angularaxis": {
            "gridcolor": "#506784",
            "linecolor": "#506784",
            "ticks": ""
           },
           "bgcolor": "rgb(17,17,17)",
           "radialaxis": {
            "gridcolor": "#506784",
            "linecolor": "#506784",
            "ticks": ""
           }
          },
          "scene": {
           "xaxis": {
            "backgroundcolor": "rgb(17,17,17)",
            "gridcolor": "#506784",
            "gridwidth": 2,
            "linecolor": "#506784",
            "showbackground": true,
            "ticks": "",
            "zerolinecolor": "#C8D4E3"
           },
           "yaxis": {
            "backgroundcolor": "rgb(17,17,17)",
            "gridcolor": "#506784",
            "gridwidth": 2,
            "linecolor": "#506784",
            "showbackground": true,
            "ticks": "",
            "zerolinecolor": "#C8D4E3"
           },
           "zaxis": {
            "backgroundcolor": "rgb(17,17,17)",
            "gridcolor": "#506784",
            "gridwidth": 2,
            "linecolor": "#506784",
            "showbackground": true,
            "ticks": "",
            "zerolinecolor": "#C8D4E3"
           }
          },
          "shapedefaults": {
           "line": {
            "color": "#f2f5fa"
           }
          },
          "sliderdefaults": {
           "bgcolor": "#C8D4E3",
           "bordercolor": "rgb(17,17,17)",
           "borderwidth": 1,
           "tickwidth": 0
          },
          "ternary": {
           "aaxis": {
            "gridcolor": "#506784",
            "linecolor": "#506784",
            "ticks": ""
           },
           "baxis": {
            "gridcolor": "#506784",
            "linecolor": "#506784",
            "ticks": ""
           },
           "bgcolor": "rgb(17,17,17)",
           "caxis": {
            "gridcolor": "#506784",
            "linecolor": "#506784",
            "ticks": ""
           }
          },
          "title": {
           "x": 0.05
          },
          "updatemenudefaults": {
           "bgcolor": "#506784",
           "borderwidth": 0
          },
          "xaxis": {
           "automargin": true,
           "gridcolor": "#283442",
           "linecolor": "#506784",
           "ticks": "",
           "title": {
            "standoff": 15
           },
           "zerolinecolor": "#283442",
           "zerolinewidth": 2
          },
          "yaxis": {
           "automargin": true,
           "gridcolor": "#283442",
           "linecolor": "#506784",
           "ticks": "",
           "title": {
            "standoff": 15
           },
           "zerolinecolor": "#283442",
           "zerolinewidth": 2
          }
         }
        },
        "xaxis": {
         "anchor": "y",
         "domain": [
          0,
          1
         ],
         "title": {
          "text": "index"
         }
        },
        "yaxis": {
         "anchor": "x",
         "domain": [
          0,
          1
         ],
         "title": {
          "text": "Time in Seconds"
         }
        }
       }
      }
     },
     "metadata": {},
     "output_type": "display_data"
    }
   ],
   "source": [
    "# create a plotly bar chart\n",
    "# unstack the data\n",
    "\n",
    "fig = px.bar(bro.T, barmode='group', labels={'value':'Time in Seconds'}, template='plotly_dark')\n",
    "fig.show()"
   ]
  },
  {
   "cell_type": "code",
   "execution_count": null,
   "metadata": {},
   "outputs": [],
   "source": []
  }
 ],
 "metadata": {
  "kernelspec": {
   "display_name": "General",
   "language": "python",
   "name": "python3"
  },
  "language_info": {
   "codemirror_mode": {
    "name": "ipython",
    "version": 3
   },
   "file_extension": ".py",
   "mimetype": "text/x-python",
   "name": "python",
   "nbconvert_exporter": "python",
   "pygments_lexer": "ipython3",
   "version": "3.10.9"
  },
  "orig_nbformat": 4
 },
 "nbformat": 4,
 "nbformat_minor": 2
}
